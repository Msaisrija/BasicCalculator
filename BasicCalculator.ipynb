{
 "cells": [
  {
   "cell_type": "code",
   "execution_count": 1,
   "id": "e033f6cd-e852-42a5-b8d5-401f47861b74",
   "metadata": {},
   "outputs": [
    {
     "name": "stdin",
     "output_type": "stream",
     "text": [
      "Enter number1   20\n",
      "Enter number2   10\n",
      "Enter expression for operation like +,-,*,**,%,/  :  -\n"
     ]
    },
    {
     "name": "stdout",
     "output_type": "stream",
     "text": [
      "Substraction  of num1 and num2 is : 10.0\n"
     ]
    }
   ],
   "source": [
    "num1=float(input (\"Enter number1  \"))\n",
    "num2=float(input (\"Enter number2  \"))\n",
    "operation=input(\"Enter expression for operation like +,-,*,**,%,/  : \")\n",
    "\n",
    "if operation==\"+\":\n",
    "    print(\"Addition of num1 and num2 is :\",num1+num2)\n",
    "elif operation==\"-\":  \n",
    "    print(\"Substraction  of num1 and num2 is :\",num1-num2)\n",
    "elif operation==\"*\":     \n",
    "    print(\"Multiplication of num1 and num2 is :\",num1*num2)\n",
    "elif operation==\"%\": \n",
    "    try:\n",
    "        result=num1%num2\n",
    "        print(\"Modulus of num1 and num2 is :\",num1/num2)\n",
    "    except:\n",
    "        print(\" Cannot divide by Zero :Zero Division Error\")\n",
    "elif operation==\"/\":       \n",
    "    try:\n",
    "        result=num1/num2\n",
    "        print(\"Division of num1 and num2 is :\",num1/num2)\n",
    "    except:\n",
    "        print(\" Cannot divide by Zero :Zero Division Error\")\n",
    "else:\n",
    "    print(\"Enter valuable or correct expression for performing operations \")\n",
    "\n"
   ]
  },
  {
   "cell_type": "code",
   "execution_count": null,
   "id": "45c9a7bf-0815-46c6-b0f0-52199979c04b",
   "metadata": {},
   "outputs": [],
   "source": []
  }
 ],
 "metadata": {
  "kernelspec": {
   "display_name": "Python 3 (ipykernel)",
   "language": "python",
   "name": "python3"
  },
  "language_info": {
   "codemirror_mode": {
    "name": "ipython",
    "version": 3
   },
   "file_extension": ".py",
   "mimetype": "text/x-python",
   "name": "python",
   "nbconvert_exporter": "python",
   "pygments_lexer": "ipython3",
   "version": "3.12.4"
  }
 },
 "nbformat": 4,
 "nbformat_minor": 5
}
